{
  "nbformat": 4,
  "nbformat_minor": 0,
  "metadata": {
    "colab": {
      "name": "evaluation.ipynb",
      "provenance": [],
      "collapsed_sections": []
    },
    "kernelspec": {
      "name": "python3",
      "display_name": "Python 3"
    },
    "language_info": {
      "name": "python"
    }
  },
  "cells": [
    {
      "cell_type": "code",
      "execution_count": 1,
      "metadata": {
        "colab": {
          "base_uri": "https://localhost:8080/"
        },
        "id": "Y6TERoGZgMfN",
        "outputId": "008eb744-216a-4ebf-bc27-a26164ab1d53"
      },
      "outputs": [
        {
          "output_type": "stream",
          "name": "stdout",
          "text": [
            "Mounted at /content/drive\n"
          ]
        }
      ],
      "source": [
        "from google.colab import drive\n",
        "drive.mount('/content/drive', force_remount=True)"
      ]
    },
    {
      "cell_type": "code",
      "source": [
        "import math\n",
        "import cv2\n",
        "import sys\n",
        "import glob\n",
        "import random\n",
        "import pandas as pd\n",
        "import numpy as np\n",
        "import matplotlib.pyplot as plt\n",
        "import torch\n",
        "import torchvision\n",
        "import torch.nn as nn\n",
        "import torch.nn.functional as F\n",
        "import torch.optim as optim\n",
        "import itertools\n",
        "from torch import optim\n",
        "from torch.utils.data import TensorDataset, DataLoader, Dataset\n",
        "from torch.autograd.variable import Variable\n",
        "from torchvision import datasets, transforms\n",
        "from torch.optim.lr_scheduler import LambdaLR\n",
        "from PIL import Image\n",
        "from tqdm import tqdm"
      ],
      "metadata": {
        "id": "BLW3pnunhPVo"
      },
      "execution_count": 2,
      "outputs": []
    },
    {
      "cell_type": "code",
      "source": [
        "!cp -r /content/drive/Shareddrives/AML_Project/data/train_X ./train_A\n",
        "!cp -r /content/drive/Shareddrives/AML_Project/data/train_Y ./train_B"
      ],
      "metadata": {
        "id": "I7F_F1RghS2P"
      },
      "execution_count": 3,
      "outputs": []
    },
    {
      "cell_type": "code",
      "source": [
        "!cp -r /content/drive/Shareddrives/AML_Project/data/val_X ./val_A\n",
        "!cp -r /content/drive/Shareddrives/AML_Project/data/val_Y ./val_B"
      ],
      "metadata": {
        "id": "UtfpYJ0dhYMy"
      },
      "execution_count": 4,
      "outputs": []
    },
    {
      "cell_type": "code",
      "source": [
        "!cp -r /content/drive/Shareddrives/AML_Project/data/test_X ./test_A\n",
        "!cp -r /content/drive/Shareddrives/AML_Project/data/test_Y ./test_B"
      ],
      "metadata": {
        "id": "YY4D3ZWXhYvS"
      },
      "execution_count": 5,
      "outputs": []
    },
    {
      "cell_type": "code",
      "source": [
        " class CustomDataset(Dataset):\n",
        "    def __init__(self,pathsA, pathsB):\n",
        "        self.pathsA = pathsA\n",
        "        self.pathsB = pathsB   \n",
        "        self.transforms = transforms.Compose([\n",
        "                               transforms.ToTensor(),\n",
        "                               transforms.Normalize((0.5, 0.5, 0.5), (0.5, 0.5, 0.5)),\n",
        "                           ])\n",
        "     \n",
        "    def __getitem__(self, index):\n",
        "        imageA = Image.open(self.pathsA[index%len(self.pathsA)])\n",
        "        imageA = imageA.resize((256,256),Image.LANCZOS)\n",
        "        t_imageA = self.transforms(imageA)\n",
        "        \n",
        "        imageB = Image.open(self.pathsB[index%len(self.pathsB)])\n",
        "        imageB = imageB.resize((256,256),Image.LANCZOS)\n",
        "        #print(imageB.size)\n",
        "        t_imageB = self.transforms(imageB)\n",
        "        return t_imageA, t_imageB\n",
        "\n",
        "    def __len__(self):\n",
        "        \n",
        "        return max(len(self.pathsA),len(self.pathsB))"
      ],
      "metadata": {
        "id": "chY1Vsp3hbVd"
      },
      "execution_count": 6,
      "outputs": []
    },
    {
      "cell_type": "code",
      "source": [
        "path_trainA = glob.glob(\"./train_A/*.png\")\n",
        "path_trainB = glob.glob(\"./train_B/*.jpg\")\n",
        "path_testA = glob.glob(\"./test_A/*.png\")\n",
        "path_testB = glob.glob(\"./test_B/*.jpg\")\n",
        "path_valA = glob.glob(\"./val_A/*.png\")\n",
        "path_valB = glob.glob(\"./val_B/*.jpg\")"
      ],
      "metadata": {
        "id": "AFT0V-slhjWl"
      },
      "execution_count": 7,
      "outputs": []
    },
    {
      "cell_type": "code",
      "source": [
        "dataset_train = CustomDataset(path_trainA,path_trainB)\n",
        "dataset_test = CustomDataset(path_testA,path_testB)\n",
        "dataset_val = CustomDataset(path_valA,path_valB)\n",
        "\n",
        "print(len(dataset_train))\n",
        "print(len(dataset_test))\n",
        "print(len(dataset_val))"
      ],
      "metadata": {
        "colab": {
          "base_uri": "https://localhost:8080/"
        },
        "id": "rLoILFCphmtu",
        "outputId": "a4297ac8-ddb8-424e-97b7-c344dc0b4d02"
      },
      "execution_count": 8,
      "outputs": [
        {
          "output_type": "stream",
          "name": "stdout",
          "text": [
            "1000\n",
            "500\n",
            "500\n"
          ]
        }
      ]
    },
    {
      "cell_type": "code",
      "source": [
        "class Discriminator(nn.Module):\n",
        "    def __init__(self):\n",
        "        super(Discriminator, self).__init__()\n",
        "\n",
        "        \n",
        "        self.model = nn.Sequential(\n",
        "        \n",
        "                    nn.Conv2d(3, 64, 4, stride=2, padding=1),\n",
        "                    nn.LeakyReLU(0.2, inplace=True),\n",
        "                 \n",
        "                    nn.Conv2d(64, 128, 4, stride=2, padding=1),\n",
        "                    nn.InstanceNorm2d(128), \n",
        "                    nn.LeakyReLU(0.2, inplace=True),\n",
        "                 \n",
        "                    nn.Conv2d(128, 256, 4, stride=2, padding=1),\n",
        "                    nn.InstanceNorm2d(256), \n",
        "                    nn.LeakyReLU(0.2, inplace=True),\n",
        "                 \n",
        "                    nn.Conv2d(256, 512, 4, padding=1),\n",
        "                    nn.InstanceNorm2d(512), \n",
        "                    nn.LeakyReLU(0.2, inplace=True),\n",
        "                 \n",
        "                    nn.Conv2d(512, 1, 4, padding=1) )\n",
        "\n",
        "        \n",
        "\n",
        "        \n",
        "    def forward(self, x):\n",
        "    \n",
        "        x =  self.model(x)\n",
        "        x = F.avg_pool2d(x, x.size()[2:]).view(x.size()[0], -1)\n",
        "        return x"
      ],
      "metadata": {
        "id": "JLkE5whsh0q5"
      },
      "execution_count": 9,
      "outputs": []
    },
    {
      "cell_type": "code",
      "source": [
        "class ResidualBlock(nn.Module):\n",
        "    def __init__(self, in_channels):\n",
        "        super(ResidualBlock, self).__init__()\n",
        "\n",
        "        self.residual_block = nn.Sequential(\n",
        "                                 nn.ReflectionPad2d(1),\n",
        "                                 nn.Conv2d(in_channels, in_channels, 3),\n",
        "                                 nn.InstanceNorm2d(in_channels),\n",
        "                                 nn.ReLU(inplace=True),\n",
        "                                 nn.ReflectionPad2d(1),\n",
        "                                 nn.Conv2d(in_channels, in_channels, 3),\n",
        "                                 nn.InstanceNorm2d(in_channels) )\n",
        "\n",
        "    def forward(self, x):\n",
        "        return x + self.residual_block(x)\n",
        "\n",
        "\n",
        "class Generator(nn.Module):\n",
        "    def __init__(self):\n",
        "        super(Generator, self).__init__()\n",
        "        self.main = nn.Sequential(\n",
        "                       nn.ReflectionPad2d(3),\n",
        "                       nn.Conv2d(3, 64, 7),\n",
        "                       nn.InstanceNorm2d(64),\n",
        "                       nn.ReLU(inplace=True),\n",
        "\n",
        "                       nn.Conv2d(64, 128, 3, stride=2, padding=1),\n",
        "                       nn.InstanceNorm2d(128),\n",
        "                       nn.ReLU(inplace=True),\n",
        "                       nn.Conv2d(128, 256, 3, stride=2, padding=1),\n",
        "                       nn.InstanceNorm2d(256),\n",
        "                       nn.ReLU(inplace=True),\n",
        "\n",
        "                       ResidualBlock(256),\n",
        "                       ResidualBlock(256),\n",
        "                       ResidualBlock(256),\n",
        "                       ResidualBlock(256),\n",
        "                       ResidualBlock(256),\n",
        "                       ResidualBlock(256),\n",
        "                       ResidualBlock(256),\n",
        "                       ResidualBlock(256),\n",
        "                       ResidualBlock(256),\n",
        "\n",
        "            \n",
        "                       nn.ConvTranspose2d(256, 128, 3, stride=2, padding=1, output_padding=1),\n",
        "                       nn.InstanceNorm2d(128),\n",
        "                       nn.ReLU(inplace=True),\n",
        "                       nn.ConvTranspose2d(128, 64, 3, stride=2, padding=1, output_padding=1),\n",
        "                       nn.InstanceNorm2d(64),\n",
        "                       nn.ReLU(inplace=True),\n",
        "\n",
        "            \n",
        "                       nn.ReflectionPad2d(3),\n",
        "                       nn.Conv2d(64, 3, 7),\n",
        "                       nn.Tanh()  )   \n",
        "\n",
        "    def forward(self, x):\n",
        "        return self.main(x)"
      ],
      "metadata": {
        "id": "9IC6o6NbiB9S"
      },
      "execution_count": 10,
      "outputs": []
    },
    {
      "cell_type": "code",
      "source": [
        "def weights_init(m):\n",
        "    classname = m.__class__.__name__\n",
        "    if classname.find('Conv') != -1:\n",
        "        nn.init.normal_(m.weight.data, 0.0, 0.02)\n",
        "    elif classname.find('BatchNorm') != -1:\n",
        "        nn.init.normal_(m.weight.data, 1.0, 0.02)\n",
        "        nn.init.constant_(m.bias.data, 0)"
      ],
      "metadata": {
        "id": "-wQCuuqmiMzn"
      },
      "execution_count": 11,
      "outputs": []
    },
    {
      "cell_type": "code",
      "source": [
        "def ssim(img1, img2):\n",
        "    C1 = (0.01 * 255)**2\n",
        "    C2 = (0.03 * 255)**2\n",
        "\n",
        "    img1 = img1.astype(np.float64)\n",
        "    img2 = img2.astype(np.float64)\n",
        "    kernel = cv2.getGaussianKernel(11, 1.5)\n",
        "    window = np.outer(kernel, kernel.transpose())\n",
        "\n",
        "    mu1 = cv2.filter2D(img1, -1, window)[5:-5, 5:-5]  # valid\n",
        "    mu2 = cv2.filter2D(img2, -1, window)[5:-5, 5:-5]\n",
        "    mu1_sq = mu1**2\n",
        "    mu2_sq = mu2**2\n",
        "    mu1_mu2 = mu1 * mu2\n",
        "    sigma1_sq = cv2.filter2D(img1**2, -1, window)[5:-5, 5:-5] - mu1_sq\n",
        "    sigma2_sq = cv2.filter2D(img2**2, -1, window)[5:-5, 5:-5] - mu2_sq\n",
        "    sigma12 = cv2.filter2D(img1 * img2, -1, window)[5:-5, 5:-5] - mu1_mu2\n",
        "\n",
        "    ssim_map = ((2 * mu1_mu2 + C1) * (2 * sigma12 + C2)) / ((mu1_sq + mu2_sq + C1) *\n",
        "                                                            (sigma1_sq + sigma2_sq + C2))\n",
        "    return ssim_map.mean()"
      ],
      "metadata": {
        "id": "0QOIxly-dSeh"
      },
      "execution_count": 12,
      "outputs": []
    },
    {
      "cell_type": "code",
      "source": [
        "def calculate_ssim(img1, img2):\n",
        "    '''calculate SSIM\n",
        "    the same outputs as MATLAB's\n",
        "    img1, img2: [0, 255]\n",
        "    '''\n",
        "    if not img1.shape == img2.shape:\n",
        "        raise ValueError('Input images must have the same dimensions.')\n",
        "    if img1.ndim == 2:\n",
        "        return ssim(img1, img2)\n",
        "    elif img1.ndim == 3:\n",
        "        if img1.shape[0] == 3:\n",
        "            ssims = []\n",
        "            for i in range(3):\n",
        "                ssims.append(ssim(img1[i,:,:], img2[i,:,:]))\n",
        "            return np.array(ssims).mean()\n",
        "        elif img1.shape[0] == 1:\n",
        "            return ssim(np.squeeze(img1), np.squeeze(img2))\n",
        "    else:\n",
        "        raise ValueError('Wrong input image dimensions.')"
      ],
      "metadata": {
        "id": "IOF_7OrlcQ8x"
      },
      "execution_count": 13,
      "outputs": []
    },
    {
      "cell_type": "code",
      "source": [
        "GA = Generator()\n",
        "\n",
        "checkpoint = torch.load(\"/content/drive/Shareddrives/AML_Project/new_models/lambda_5/CycleGAN_epoch-50.pth\",map_location=torch.device('cpu'))\n",
        "GA.load_state_dict(checkpoint['GA_state_dict'])\n",
        "\n",
        "GA.eval()"
      ],
      "metadata": {
        "colab": {
          "base_uri": "https://localhost:8080/"
        },
        "id": "Ve9iWEYJiSBv",
        "outputId": "d864bc76-9e86-4680-f918-5e7ac104ed5e"
      },
      "execution_count": 22,
      "outputs": [
        {
          "output_type": "execute_result",
          "data": {
            "text/plain": [
              "Generator(\n",
              "  (main): Sequential(\n",
              "    (0): ReflectionPad2d((3, 3, 3, 3))\n",
              "    (1): Conv2d(3, 64, kernel_size=(7, 7), stride=(1, 1))\n",
              "    (2): InstanceNorm2d(64, eps=1e-05, momentum=0.1, affine=False, track_running_stats=False)\n",
              "    (3): ReLU(inplace=True)\n",
              "    (4): Conv2d(64, 128, kernel_size=(3, 3), stride=(2, 2), padding=(1, 1))\n",
              "    (5): InstanceNorm2d(128, eps=1e-05, momentum=0.1, affine=False, track_running_stats=False)\n",
              "    (6): ReLU(inplace=True)\n",
              "    (7): Conv2d(128, 256, kernel_size=(3, 3), stride=(2, 2), padding=(1, 1))\n",
              "    (8): InstanceNorm2d(256, eps=1e-05, momentum=0.1, affine=False, track_running_stats=False)\n",
              "    (9): ReLU(inplace=True)\n",
              "    (10): ResidualBlock(\n",
              "      (residual_block): Sequential(\n",
              "        (0): ReflectionPad2d((1, 1, 1, 1))\n",
              "        (1): Conv2d(256, 256, kernel_size=(3, 3), stride=(1, 1))\n",
              "        (2): InstanceNorm2d(256, eps=1e-05, momentum=0.1, affine=False, track_running_stats=False)\n",
              "        (3): ReLU(inplace=True)\n",
              "        (4): ReflectionPad2d((1, 1, 1, 1))\n",
              "        (5): Conv2d(256, 256, kernel_size=(3, 3), stride=(1, 1))\n",
              "        (6): InstanceNorm2d(256, eps=1e-05, momentum=0.1, affine=False, track_running_stats=False)\n",
              "      )\n",
              "    )\n",
              "    (11): ResidualBlock(\n",
              "      (residual_block): Sequential(\n",
              "        (0): ReflectionPad2d((1, 1, 1, 1))\n",
              "        (1): Conv2d(256, 256, kernel_size=(3, 3), stride=(1, 1))\n",
              "        (2): InstanceNorm2d(256, eps=1e-05, momentum=0.1, affine=False, track_running_stats=False)\n",
              "        (3): ReLU(inplace=True)\n",
              "        (4): ReflectionPad2d((1, 1, 1, 1))\n",
              "        (5): Conv2d(256, 256, kernel_size=(3, 3), stride=(1, 1))\n",
              "        (6): InstanceNorm2d(256, eps=1e-05, momentum=0.1, affine=False, track_running_stats=False)\n",
              "      )\n",
              "    )\n",
              "    (12): ResidualBlock(\n",
              "      (residual_block): Sequential(\n",
              "        (0): ReflectionPad2d((1, 1, 1, 1))\n",
              "        (1): Conv2d(256, 256, kernel_size=(3, 3), stride=(1, 1))\n",
              "        (2): InstanceNorm2d(256, eps=1e-05, momentum=0.1, affine=False, track_running_stats=False)\n",
              "        (3): ReLU(inplace=True)\n",
              "        (4): ReflectionPad2d((1, 1, 1, 1))\n",
              "        (5): Conv2d(256, 256, kernel_size=(3, 3), stride=(1, 1))\n",
              "        (6): InstanceNorm2d(256, eps=1e-05, momentum=0.1, affine=False, track_running_stats=False)\n",
              "      )\n",
              "    )\n",
              "    (13): ResidualBlock(\n",
              "      (residual_block): Sequential(\n",
              "        (0): ReflectionPad2d((1, 1, 1, 1))\n",
              "        (1): Conv2d(256, 256, kernel_size=(3, 3), stride=(1, 1))\n",
              "        (2): InstanceNorm2d(256, eps=1e-05, momentum=0.1, affine=False, track_running_stats=False)\n",
              "        (3): ReLU(inplace=True)\n",
              "        (4): ReflectionPad2d((1, 1, 1, 1))\n",
              "        (5): Conv2d(256, 256, kernel_size=(3, 3), stride=(1, 1))\n",
              "        (6): InstanceNorm2d(256, eps=1e-05, momentum=0.1, affine=False, track_running_stats=False)\n",
              "      )\n",
              "    )\n",
              "    (14): ResidualBlock(\n",
              "      (residual_block): Sequential(\n",
              "        (0): ReflectionPad2d((1, 1, 1, 1))\n",
              "        (1): Conv2d(256, 256, kernel_size=(3, 3), stride=(1, 1))\n",
              "        (2): InstanceNorm2d(256, eps=1e-05, momentum=0.1, affine=False, track_running_stats=False)\n",
              "        (3): ReLU(inplace=True)\n",
              "        (4): ReflectionPad2d((1, 1, 1, 1))\n",
              "        (5): Conv2d(256, 256, kernel_size=(3, 3), stride=(1, 1))\n",
              "        (6): InstanceNorm2d(256, eps=1e-05, momentum=0.1, affine=False, track_running_stats=False)\n",
              "      )\n",
              "    )\n",
              "    (15): ResidualBlock(\n",
              "      (residual_block): Sequential(\n",
              "        (0): ReflectionPad2d((1, 1, 1, 1))\n",
              "        (1): Conv2d(256, 256, kernel_size=(3, 3), stride=(1, 1))\n",
              "        (2): InstanceNorm2d(256, eps=1e-05, momentum=0.1, affine=False, track_running_stats=False)\n",
              "        (3): ReLU(inplace=True)\n",
              "        (4): ReflectionPad2d((1, 1, 1, 1))\n",
              "        (5): Conv2d(256, 256, kernel_size=(3, 3), stride=(1, 1))\n",
              "        (6): InstanceNorm2d(256, eps=1e-05, momentum=0.1, affine=False, track_running_stats=False)\n",
              "      )\n",
              "    )\n",
              "    (16): ResidualBlock(\n",
              "      (residual_block): Sequential(\n",
              "        (0): ReflectionPad2d((1, 1, 1, 1))\n",
              "        (1): Conv2d(256, 256, kernel_size=(3, 3), stride=(1, 1))\n",
              "        (2): InstanceNorm2d(256, eps=1e-05, momentum=0.1, affine=False, track_running_stats=False)\n",
              "        (3): ReLU(inplace=True)\n",
              "        (4): ReflectionPad2d((1, 1, 1, 1))\n",
              "        (5): Conv2d(256, 256, kernel_size=(3, 3), stride=(1, 1))\n",
              "        (6): InstanceNorm2d(256, eps=1e-05, momentum=0.1, affine=False, track_running_stats=False)\n",
              "      )\n",
              "    )\n",
              "    (17): ResidualBlock(\n",
              "      (residual_block): Sequential(\n",
              "        (0): ReflectionPad2d((1, 1, 1, 1))\n",
              "        (1): Conv2d(256, 256, kernel_size=(3, 3), stride=(1, 1))\n",
              "        (2): InstanceNorm2d(256, eps=1e-05, momentum=0.1, affine=False, track_running_stats=False)\n",
              "        (3): ReLU(inplace=True)\n",
              "        (4): ReflectionPad2d((1, 1, 1, 1))\n",
              "        (5): Conv2d(256, 256, kernel_size=(3, 3), stride=(1, 1))\n",
              "        (6): InstanceNorm2d(256, eps=1e-05, momentum=0.1, affine=False, track_running_stats=False)\n",
              "      )\n",
              "    )\n",
              "    (18): ResidualBlock(\n",
              "      (residual_block): Sequential(\n",
              "        (0): ReflectionPad2d((1, 1, 1, 1))\n",
              "        (1): Conv2d(256, 256, kernel_size=(3, 3), stride=(1, 1))\n",
              "        (2): InstanceNorm2d(256, eps=1e-05, momentum=0.1, affine=False, track_running_stats=False)\n",
              "        (3): ReLU(inplace=True)\n",
              "        (4): ReflectionPad2d((1, 1, 1, 1))\n",
              "        (5): Conv2d(256, 256, kernel_size=(3, 3), stride=(1, 1))\n",
              "        (6): InstanceNorm2d(256, eps=1e-05, momentum=0.1, affine=False, track_running_stats=False)\n",
              "      )\n",
              "    )\n",
              "    (19): ConvTranspose2d(256, 128, kernel_size=(3, 3), stride=(2, 2), padding=(1, 1), output_padding=(1, 1))\n",
              "    (20): InstanceNorm2d(128, eps=1e-05, momentum=0.1, affine=False, track_running_stats=False)\n",
              "    (21): ReLU(inplace=True)\n",
              "    (22): ConvTranspose2d(128, 64, kernel_size=(3, 3), stride=(2, 2), padding=(1, 1), output_padding=(1, 1))\n",
              "    (23): InstanceNorm2d(64, eps=1e-05, momentum=0.1, affine=False, track_running_stats=False)\n",
              "    (24): ReLU(inplace=True)\n",
              "    (25): ReflectionPad2d((3, 3, 3, 3))\n",
              "    (26): Conv2d(64, 3, kernel_size=(7, 7), stride=(1, 1))\n",
              "    (27): Tanh()\n",
              "  )\n",
              ")"
            ]
          },
          "metadata": {},
          "execution_count": 22
        }
      ]
    },
    {
      "cell_type": "code",
      "source": [
        "ssim_list = []"
      ],
      "metadata": {
        "id": "ZAO_psY8qpHj"
      },
      "execution_count": 23,
      "outputs": []
    },
    {
      "cell_type": "code",
      "source": [
        "for i in tqdm(range(500)):\n",
        "  portrait = GA(dataset_test[i][0])\n",
        "  ssim_ = calculate_ssim(portrait.detach().numpy(),dataset_test[i][0].detach().numpy() )\n",
        "  ssim_list.append(ssim_)\n",
        "\n",
        "average_ssim = np.mean(np.array(ssim_list))\n",
        "\n",
        "print(\"\\n Average SSIM: {}\".format(average_ssim))\n",
        "\n",
        "  #find ssim b/w portrait & inout image\n",
        "#return avg ssim"
      ],
      "metadata": {
        "id": "jnmaf8GBqjq2",
        "colab": {
          "base_uri": "https://localhost:8080/"
        },
        "outputId": "e0e5a689-be38-4854-b5a8-b533bbbb0d0d"
      },
      "execution_count": 24,
      "outputs": [
        {
          "metadata": {
            "tags": null
          },
          "name": "stderr",
          "output_type": "stream",
          "text": [
            "100%|██████████| 500/500 [19:11<00:00,  2.30s/it]"
          ]
        },
        {
          "metadata": {
            "tags": null
          },
          "name": "stdout",
          "output_type": "stream",
          "text": [
            "\n",
            " Average SSIM: 0.9827335453763544\n"
          ]
        },
        {
          "metadata": {
            "tags": null
          },
          "name": "stderr",
          "output_type": "stream",
          "text": [
            "\n"
          ]
        }
      ]
    },
    {
      "cell_type": "code",
      "source": [
        ""
      ],
      "metadata": {
        "id": "bsF9Tv58LIPk"
      },
      "execution_count": null,
      "outputs": []
    }
  ]
}